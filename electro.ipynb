#Spectrum.py
import numpy as np
from matplotlib import pyplot as plt

iSampleRate = 2000					# Frecuencia de muestreo, 2000 muestras por segundo
x = np.fromfile("100.dat",dtype=np.float32)
iSampleCount = x.shape[0]			#Número de muestras
t = np.linspace(0,iSampleCount/iSampleRate,iSampleCount)

xFFT = np.abs(np.fft.rfft(x)/iSampleCount)  # Transformada rápida de Fourier
xFreqs = np.linspace(0, iSampleRate/2, int(iSampleCount/2)+1)

plt.figure(figsize=(10,6))
ax0 = plt.subplot(211)             #Dibujo de señal de dominio de tiempo
ax0.set_xlabel("Time(s)")
ax0.set_ylabel("Amp(μV)")
ax0.plot(t,x)

ax1 = plt.subplot(212)             #Dibujar espectro de señal del dominio de frecuencia
ax1.set_xlabel("Freq(Hz)")
ax1.set_ylabel("Power")
ax1.plot(xFreqs, xFFT)
plt.show()
